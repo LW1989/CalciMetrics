{
 "cells": [
  {
   "cell_type": "code",
   "execution_count": 1,
   "metadata": {},
   "outputs": [],
   "source": [
    "from classes.preprocessing import CalciMetrics\n",
    "import os\n",
    "import pandas as pd"
   ]
  },
  {
   "cell_type": "code",
   "execution_count": 2,
   "metadata": {},
   "outputs": [],
   "source": [
    "path_to_data=\"/Users/lutz/Documents/CalciMetrics/CalciMetrics/test_data\"\n",
    "\n",
    "cc=CalciMetrics(path_to_data)\n",
    "\n",
    "cc.import_data(frames_to_seconds=True, fps_rate=1.667)"
   ]
  },
  {
   "cell_type": "code",
   "execution_count": 3,
   "metadata": {},
   "outputs": [
    {
     "data": {
      "application/vnd.jupyter.widget-view+json": {
       "model_id": "308bc4d830604560b1247caff715555d",
       "version_major": 2,
       "version_minor": 0
      },
      "text/plain": [
       "Dropdown(options=('Results_dish4.csv', 'Results_Dish5.csv', 'Results_Dish2.csv', 'Results_Dish1.csv'), value='…"
      ]
     },
     "metadata": {},
     "output_type": "display_data"
    },
    {
     "data": {
      "application/vnd.jupyter.widget-view+json": {
       "model_id": "0d21724805e847dc9c56324aae397e77",
       "version_major": 2,
       "version_minor": 0
      },
      "text/plain": [
       "FigureWidget({\n",
       "    'data': [{'showlegend': False,\n",
       "              'type': 'scatter',\n",
       "              'uid': '99cd6…"
      ]
     },
     "metadata": {},
     "output_type": "display_data"
    }
   ],
   "source": [
    "cc.interactive_plot()"
   ]
  },
  {
   "cell_type": "code",
   "execution_count": null,
   "metadata": {},
   "outputs": [],
   "source": [
    "dict_dfs=cc.trial_data_dict#['Results_dish4.csv']"
   ]
  },
  {
   "cell_type": "code",
   "execution_count": null,
   "metadata": {},
   "outputs": [],
   "source": [
    "import pandas as pd\n",
    "import numpy as np\n",
    "import plotly.subplots as sp\n",
    "import plotly.graph_objects as go\n",
    "from ipywidgets import Dropdown, interact, Output\n",
    "import math\n",
    "\n",
    "\n",
    "\n",
    "# Get the first key of the dictionary\n",
    "first_key = next(iter(dict_dfs))\n",
    "\n",
    "# create a dropdown widget with dataframe keys as options\n",
    "df_dropdown = Dropdown(options=dict_dfs.keys())\n",
    "\n",
    "out = Output()\n",
    "display(df_dropdown, out)\n",
    "\n",
    "fig = go.FigureWidget()\n",
    "\n",
    "def update_figure(change):\n",
    "    df_key = df_dropdown.value\n",
    "    # get number of columns in the dataframe\n",
    "    num_cols = len(dict_dfs[df_key].columns)\n",
    "    \n",
    "    # calculate the number of rows required for the subplots\n",
    "    num_rows = math.ceil(num_cols / 5)\n",
    "    \n",
    "    # create a subplot with 'num_rows' number of rows and 5 columns\n",
    "    subplot_titles = tuple(dict_dfs[df_key].columns)\n",
    "    new_fig = sp.make_subplots(rows=num_rows, cols=5, subplot_titles=subplot_titles)\n",
    "    \n",
    "    # for each column in the dataframe, create a scatter plot and add it to the subplot\n",
    "    for idx, col in enumerate(dict_dfs[df_key].columns, start=1):\n",
    "        row = math.ceil(idx / 5)\n",
    "        col_position = idx if idx <= 5 else idx - (5 * (row - 1))\n",
    "        new_fig.add_trace(go.Scatter(y=dict_dfs[df_key][col], showlegend=False), row=row, col=col_position)\n",
    "        \n",
    "    new_fig.update_layout(height=400*num_rows, width=800, title_text=df_key)\n",
    "    \n",
    "    with fig.batch_update():\n",
    "        fig.data = []\n",
    "        fig.layout = new_fig.layout\n",
    "        for trace in new_fig.data:\n",
    "            fig.add_trace(trace)\n",
    "\n",
    "# observe the dataframe dropdown for changes\n",
    "df_dropdown.observe(update_figure, 'value')\n",
    "\n",
    "# run once to initialize\n",
    "update_figure(None)\n",
    "\n",
    "fig\n",
    "\n"
   ]
  },
  {
   "cell_type": "code",
   "execution_count": null,
   "metadata": {},
   "outputs": [],
   "source": [
    "test=pd.read_csv(path[1])\n",
    "test"
   ]
  },
  {
   "cell_type": "code",
   "execution_count": null,
   "metadata": {},
   "outputs": [],
   "source": [
    "test-test.iloc[:,-1]"
   ]
  },
  {
   "cell_type": "code",
   "execution_count": null,
   "metadata": {},
   "outputs": [],
   "source": []
  }
 ],
 "metadata": {
  "kernelspec": {
   "display_name": "base",
   "language": "python",
   "name": "python3"
  },
  "language_info": {
   "codemirror_mode": {
    "name": "ipython",
    "version": 3
   },
   "file_extension": ".py",
   "mimetype": "text/x-python",
   "name": "python",
   "nbconvert_exporter": "python",
   "pygments_lexer": "ipython3",
   "version": "3.9.13"
  },
  "orig_nbformat": 4
 },
 "nbformat": 4,
 "nbformat_minor": 2
}
