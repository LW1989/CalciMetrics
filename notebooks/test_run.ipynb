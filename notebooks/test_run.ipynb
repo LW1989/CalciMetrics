{
 "cells": [
  {
   "cell_type": "code",
   "execution_count": null,
   "metadata": {},
   "outputs": [],
   "source": [
    "import sys\n",
    "sys.path.append(\"..\")\n",
    "from classes.preprocessing import CalciMetrics\n",
    "import os\n",
    "import pandas as pd"
   ]
  },
  {
   "cell_type": "code",
   "execution_count": null,
   "metadata": {},
   "outputs": [],
   "source": [
    "path_to_data=\"/Users/lutz/Documents/CalciMetrics/CalciMetrics/test_data\"\n",
    "\n",
    "cc=CalciMetrics(path_to_data)\n",
    "cc.import_data(frames_to_seconds=True, first_col_frames=True, fps_rate=1.667)\n",
    "cc.dff_calc()"
   ]
  },
  {
   "cell_type": "code",
   "execution_count": null,
   "metadata": {},
   "outputs": [],
   "source": [
    "cc.trial_data_dict['Results_dish4.csv']\n",
    "\n",
    "#import json\n",
    "#print(json.dumps(cc.trial_data_dict))\n"
   ]
  },
  {
   "cell_type": "code",
   "execution_count": null,
   "metadata": {},
   "outputs": [],
   "source": [
    "from bokeh.plotting import figure, show\n",
    "from bokeh.io import output_notebook\n",
    "from bokeh.models import CheckboxGroup, CustomJS, ColumnDataSource\n",
    "from bokeh.layouts import column\n",
    "from bokeh.palettes import Category20  # import a color palette\n",
    "\n",
    "output_notebook()\n",
    "\n",
    "def interactive_plot(df):\n",
    "    # Create a new figure\n",
    "    p = figure(width=800, height=400)\n",
    "\n",
    "    # Create a ColumnDataSource from the dataframe\n",
    "    source = ColumnDataSource(df)\n",
    "\n",
    "    # Create a color iterator from the palette\n",
    "    colors = iter(Category20[20])\n",
    "\n",
    "    # Add a line for each column in the dataframe\n",
    "    for i, col in enumerate(df.columns):\n",
    "        p.line(x='index', y=col, line_width=2, alpha=0.7, legend_label=col, source=source, color=next(colors))\n",
    "\n",
    "    # Create a CheckboxGroup with all columns\n",
    "    # Set the first checkbox as active, all others inactive\n",
    "    checkbox_group = CheckboxGroup(labels=list(df.columns), active=[0])\n",
    "\n",
    "    # Create a callback to hide/show lines\n",
    "    callback = CustomJS(args=dict(lines=p.renderers, checkbox_group=checkbox_group), code=\"\"\"\n",
    "        for (let i = 0; i < lines.length; i++) {\n",
    "            lines[i].visible = checkbox_group.active.includes(i);\n",
    "        }\n",
    "    \"\"\")\n",
    "\n",
    "    # Attach the callback to the CheckboxGroup\n",
    "    checkbox_group.js_on_change('active', callback)\n",
    "\n",
    "    # Show the plot and the CheckboxGroup\n",
    "    show(column(p, checkbox_group))\n",
    "\n",
    "\n"
   ]
  },
  {
   "cell_type": "code",
   "execution_count": null,
   "metadata": {},
   "outputs": [],
   "source": [
    "interactive_plot(cc.trial_data_dict['Results_dish4.csv'])"
   ]
  },
  {
   "cell_type": "code",
   "execution_count": null,
   "metadata": {},
   "outputs": [],
   "source": [
    "#cc.trial_data_dict['Results_dish4.csv']\n",
    "cc.show_plot('Results_dish4.csv')"
   ]
  },
  {
   "cell_type": "code",
   "execution_count": null,
   "metadata": {},
   "outputs": [],
   "source": []
  },
  {
   "cell_type": "code",
   "execution_count": null,
   "metadata": {},
   "outputs": [],
   "source": []
  },
  {
   "cell_type": "code",
   "execution_count": null,
   "metadata": {},
   "outputs": [],
   "source": []
  },
  {
   "cell_type": "code",
   "execution_count": null,
   "metadata": {},
   "outputs": [],
   "source": []
  }
 ],
 "metadata": {
  "kernelspec": {
   "display_name": "Python 3 (ipykernel)",
   "language": "python",
   "name": "python3"
  },
  "language_info": {
   "codemirror_mode": {
    "name": "ipython",
    "version": 3
   },
   "file_extension": ".py",
   "mimetype": "text/x-python",
   "name": "python",
   "nbconvert_exporter": "python",
   "pygments_lexer": "ipython3",
   "version": "3.11.3"
  }
 },
 "nbformat": 4,
 "nbformat_minor": 2
}
